{
 "cells": [
  {
   "cell_type": "code",
   "execution_count": 1,
   "metadata": {},
   "outputs": [],
   "source": [
    "#!/bin/python3\n",
    "\n",
    "##########################\n",
    "# Author: Molly Brothers\n",
    "# Github: mollybrothers\n",
    "# Date: 11/18/2020\n",
    "##########################\n",
    "\n",
    "# This script uses an input sequencing_summary.txt file from a guppy basecalling run to find the read_ids\n",
    "# that have a mean_qscore_template < 7 and generate a list of those read_ids.\n",
    "# Then, it reads through the per_read_modified_base_calls.txt file from a megalodon output and filters out\n",
    "# any lines corresponding to those read_ids"
   ]
  },
  {
   "cell_type": "code",
   "execution_count": 3,
   "metadata": {},
   "outputs": [],
   "source": [
    "import numpy as np"
   ]
  },
  {
   "cell_type": "code",
   "execution_count": 4,
   "metadata": {},
   "outputs": [],
   "source": [
    "# import sequencing_summary.txt as a numpy array"
   ]
  },
  {
   "cell_type": "code",
   "execution_count": 5,
   "metadata": {},
   "outputs": [],
   "source": [
    "# read each line. If mean_qscore_template is < 7, add the read_id to a txt file (one read_id per line)"
   ]
  },
  {
   "cell_type": "code",
   "execution_count": 6,
   "metadata": {},
   "outputs": [],
   "source": [
    "# import per_read_modified_base_calls.txt as a numpy array"
   ]
  },
  {
   "cell_type": "code",
   "execution_count": 7,
   "metadata": {},
   "outputs": [],
   "source": [
    "# read each line. If read_id matches any read_id in the read_ids to filter out (text file made above),\n",
    "# get rid of that line"
   ]
  },
  {
   "cell_type": "code",
   "execution_count": 8,
   "metadata": {},
   "outputs": [],
   "source": [
    "# save the new array as per_read_modified_base_calls_filteredQ7.txt"
   ]
  },
  {
   "cell_type": "code",
   "execution_count": null,
   "metadata": {},
   "outputs": [],
   "source": []
  }
 ],
 "metadata": {
  "kernelspec": {
   "display_name": "Python 3",
   "language": "python",
   "name": "python3"
  },
  "language_info": {
   "codemirror_mode": {
    "name": "ipython",
    "version": 3
   },
   "file_extension": ".py",
   "mimetype": "text/x-python",
   "name": "python",
   "nbconvert_exporter": "python",
   "pygments_lexer": "ipython3",
   "version": "3.7.8"
  }
 },
 "nbformat": 4,
 "nbformat_minor": 4
}
