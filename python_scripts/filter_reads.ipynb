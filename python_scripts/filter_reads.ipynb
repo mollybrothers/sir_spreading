{
 "cells": [
  {
   "cell_type": "code",
   "execution_count": 1,
   "metadata": {},
   "outputs": [],
   "source": [
    "#!/bin/python3\n",
    "\n",
    "##########################\n",
    "# Author: Molly Brothers\n",
    "# Github: mollybrothers\n",
    "# Date: 11/18/2020\n",
    "##########################\n",
    "\n",
    "# This script uses an input sequencing_summary.txt file from a guppy basecalling run to find the read_ids\n",
    "# that have a mean_qscore_template < 7 and generate a list of those read_ids.\n",
    "# Then, it reads through the per_read_modified_base_calls.txt file from a megalodon output and filters out\n",
    "# any lines corresponding to those read_ids"
   ]
  },
  {
   "cell_type": "code",
   "execution_count": 17,
   "metadata": {},
   "outputs": [],
   "source": [
    "import numpy as np\n",
    "import pandas as pd\n",
    "\n",
    "#edit for the chromosome file you want to import for per_read filtering\n",
    "chrom = \"/Volumes/brothers_seq/Nanopore/201012_Doudna/201012_Doudna_megalodon_outputv2/chrIII.txt\""
   ]
  },
  {
   "cell_type": "code",
   "execution_count": 14,
   "metadata": {},
   "outputs": [
    {
     "data": {
      "text/html": [
       "<div>\n",
       "<style scoped>\n",
       "    .dataframe tbody tr th:only-of-type {\n",
       "        vertical-align: middle;\n",
       "    }\n",
       "\n",
       "    .dataframe tbody tr th {\n",
       "        vertical-align: top;\n",
       "    }\n",
       "\n",
       "    .dataframe thead th {\n",
       "        text-align: right;\n",
       "    }\n",
       "</style>\n",
       "<table border=\"1\" class=\"dataframe\">\n",
       "  <thead>\n",
       "    <tr style=\"text-align: right;\">\n",
       "      <th></th>\n",
       "      <th>read_id</th>\n",
       "      <th>mean_qscore_template</th>\n",
       "    </tr>\n",
       "  </thead>\n",
       "  <tbody>\n",
       "    <tr>\n",
       "      <th>0</th>\n",
       "      <td>de5e24ee-1bcf-40e9-943e-c1fc10b310ab</td>\n",
       "      <td>16.287013</td>\n",
       "    </tr>\n",
       "    <tr>\n",
       "      <th>1</th>\n",
       "      <td>ba0f1c72-5dee-41ce-99ce-2703dbeff727</td>\n",
       "      <td>15.639566</td>\n",
       "    </tr>\n",
       "    <tr>\n",
       "      <th>2</th>\n",
       "      <td>71b910e2-265b-4515-b15a-755e8bf1ed5c</td>\n",
       "      <td>13.114357</td>\n",
       "    </tr>\n",
       "    <tr>\n",
       "      <th>3</th>\n",
       "      <td>46e7b444-a95f-4800-ab11-12f6e19e8e9f</td>\n",
       "      <td>16.739033</td>\n",
       "    </tr>\n",
       "    <tr>\n",
       "      <th>4</th>\n",
       "      <td>29b4e9d8-1ba5-4deb-b5a6-1aa0a559de98</td>\n",
       "      <td>16.686282</td>\n",
       "    </tr>\n",
       "  </tbody>\n",
       "</table>\n",
       "</div>"
      ],
      "text/plain": [
       "                                read_id  mean_qscore_template\n",
       "0  de5e24ee-1bcf-40e9-943e-c1fc10b310ab             16.287013\n",
       "1  ba0f1c72-5dee-41ce-99ce-2703dbeff727             15.639566\n",
       "2  71b910e2-265b-4515-b15a-755e8bf1ed5c             13.114357\n",
       "3  46e7b444-a95f-4800-ab11-12f6e19e8e9f             16.739033\n",
       "4  29b4e9d8-1ba5-4deb-b5a6-1aa0a559de98             16.686282"
      ]
     },
     "execution_count": 14,
     "metadata": {},
     "output_type": "execute_result"
    }
   ],
   "source": [
    "#import sequencing_summary.txt using pandas\n",
    "summary_df = pd.read_table(\"/Volumes/brothers_seq/Nanopore/201012_Doudna/201012_Doudna_megalodon_outputv2/sequencing_summary.txt\",\n",
    "                         usecols = ['read_id', 'mean_qscore_template'])\n",
    "summary_df.head()"
   ]
  },
  {
   "cell_type": "code",
   "execution_count": 16,
   "metadata": {},
   "outputs": [
    {
     "name": "stdout",
     "output_type": "stream",
     "text": [
      "(154840, 2)\n",
      "(154840, 2)\n"
     ]
    }
   ],
   "source": [
    "#If mean_qscore_template is < 9, filter out\n",
    "bad_reads = summary_df[summary_df['mean_qscore_template'] <= 9]\n",
    "#bad_reads.head(24)\n",
    "#print(summary_df.shape)\n",
    "#print(bad_reads.shape)"
   ]
  },
  {
   "cell_type": "code",
   "execution_count": 23,
   "metadata": {},
   "outputs": [
    {
     "data": {
      "text/html": [
       "<div>\n",
       "<style scoped>\n",
       "    .dataframe tbody tr th:only-of-type {\n",
       "        vertical-align: middle;\n",
       "    }\n",
       "\n",
       "    .dataframe tbody tr th {\n",
       "        vertical-align: top;\n",
       "    }\n",
       "\n",
       "    .dataframe thead th {\n",
       "        text-align: right;\n",
       "    }\n",
       "</style>\n",
       "<table border=\"1\" class=\"dataframe\">\n",
       "  <thead>\n",
       "    <tr style=\"text-align: right;\">\n",
       "      <th></th>\n",
       "      <th>read_id</th>\n",
       "      <th>chrm</th>\n",
       "      <th>pos</th>\n",
       "      <th>mod_prob</th>\n",
       "    </tr>\n",
       "  </thead>\n",
       "  <tbody>\n",
       "    <tr>\n",
       "      <th>0</th>\n",
       "      <td>ef9145de-e651-4655-b08b-557ee2751837</td>\n",
       "      <td>III</td>\n",
       "      <td>161750</td>\n",
       "      <td>-2.074033</td>\n",
       "    </tr>\n",
       "    <tr>\n",
       "      <th>1</th>\n",
       "      <td>ef9145de-e651-4655-b08b-557ee2751837</td>\n",
       "      <td>III</td>\n",
       "      <td>161755</td>\n",
       "      <td>-1.867569</td>\n",
       "    </tr>\n",
       "    <tr>\n",
       "      <th>2</th>\n",
       "      <td>ef9145de-e651-4655-b08b-557ee2751837</td>\n",
       "      <td>III</td>\n",
       "      <td>161756</td>\n",
       "      <td>-1.998869</td>\n",
       "    </tr>\n",
       "    <tr>\n",
       "      <th>3</th>\n",
       "      <td>ef9145de-e651-4655-b08b-557ee2751837</td>\n",
       "      <td>III</td>\n",
       "      <td>161761</td>\n",
       "      <td>-2.422728</td>\n",
       "    </tr>\n",
       "    <tr>\n",
       "      <th>4</th>\n",
       "      <td>ef9145de-e651-4655-b08b-557ee2751837</td>\n",
       "      <td>III</td>\n",
       "      <td>161762</td>\n",
       "      <td>-2.422728</td>\n",
       "    </tr>\n",
       "    <tr>\n",
       "      <th>5</th>\n",
       "      <td>ef9145de-e651-4655-b08b-557ee2751837</td>\n",
       "      <td>III</td>\n",
       "      <td>161763</td>\n",
       "      <td>-1.867569</td>\n",
       "    </tr>\n",
       "    <tr>\n",
       "      <th>6</th>\n",
       "      <td>ef9145de-e651-4655-b08b-557ee2751837</td>\n",
       "      <td>III</td>\n",
       "      <td>161764</td>\n",
       "      <td>-1.867569</td>\n",
       "    </tr>\n",
       "    <tr>\n",
       "      <th>7</th>\n",
       "      <td>ef9145de-e651-4655-b08b-557ee2751837</td>\n",
       "      <td>III</td>\n",
       "      <td>161769</td>\n",
       "      <td>-3.043311</td>\n",
       "    </tr>\n",
       "    <tr>\n",
       "      <th>8</th>\n",
       "      <td>ef9145de-e651-4655-b08b-557ee2751837</td>\n",
       "      <td>III</td>\n",
       "      <td>161773</td>\n",
       "      <td>-2.100447</td>\n",
       "    </tr>\n",
       "    <tr>\n",
       "      <th>9</th>\n",
       "      <td>ef9145de-e651-4655-b08b-557ee2751837</td>\n",
       "      <td>III</td>\n",
       "      <td>161774</td>\n",
       "      <td>-2.025571</td>\n",
       "    </tr>\n",
       "  </tbody>\n",
       "</table>\n",
       "</div>"
      ],
      "text/plain": [
       "                                read_id chrm     pos  mod_prob\n",
       "0  ef9145de-e651-4655-b08b-557ee2751837  III  161750 -2.074033\n",
       "1  ef9145de-e651-4655-b08b-557ee2751837  III  161755 -1.867569\n",
       "2  ef9145de-e651-4655-b08b-557ee2751837  III  161756 -1.998869\n",
       "3  ef9145de-e651-4655-b08b-557ee2751837  III  161761 -2.422728\n",
       "4  ef9145de-e651-4655-b08b-557ee2751837  III  161762 -2.422728\n",
       "5  ef9145de-e651-4655-b08b-557ee2751837  III  161763 -1.867569\n",
       "6  ef9145de-e651-4655-b08b-557ee2751837  III  161764 -1.867569\n",
       "7  ef9145de-e651-4655-b08b-557ee2751837  III  161769 -3.043311\n",
       "8  ef9145de-e651-4655-b08b-557ee2751837  III  161773 -2.100447\n",
       "9  ef9145de-e651-4655-b08b-557ee2751837  III  161774 -2.025571"
      ]
     },
     "execution_count": 23,
     "metadata": {},
     "output_type": "execute_result"
    }
   ],
   "source": [
    "# import per_read_modified_base_calls.txt as a data frame\n",
    "per_read = pd.read_table(chrom, usecols = [0, 1, 3, 4], names = ('read_id', 'chrm', 'pos', 'mod_prob'))\n",
    "per_read.head(10)"
   ]
  },
  {
   "cell_type": "code",
   "execution_count": 7,
   "metadata": {},
   "outputs": [],
   "source": [
    "# read each line. If read_id matches any read_id in the read_ids to filter out (text file made above),\n",
    "# get rid of that line"
   ]
  },
  {
   "cell_type": "code",
   "execution_count": 8,
   "metadata": {},
   "outputs": [],
   "source": [
    "# save the new array as per_read_modified_base_calls_filteredQ7.txt"
   ]
  },
  {
   "cell_type": "code",
   "execution_count": null,
   "metadata": {},
   "outputs": [],
   "source": []
  }
 ],
 "metadata": {
  "kernelspec": {
   "display_name": "Python 3",
   "language": "python",
   "name": "python3"
  },
  "language_info": {
   "codemirror_mode": {
    "name": "ipython",
    "version": 3
   },
   "file_extension": ".py",
   "mimetype": "text/x-python",
   "name": "python",
   "nbconvert_exporter": "python",
   "pygments_lexer": "ipython3",
   "version": "3.8.3"
  }
 },
 "nbformat": 4,
 "nbformat_minor": 4
}
